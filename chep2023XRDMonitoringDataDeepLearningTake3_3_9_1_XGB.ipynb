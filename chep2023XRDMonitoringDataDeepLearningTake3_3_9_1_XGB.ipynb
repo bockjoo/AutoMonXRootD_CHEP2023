{
 "cells": [
  {
   "cell_type": "code",
   "execution_count": 34,
   "id": "2f423a8d",
   "metadata": {},
   "outputs": [],
   "source": [
    "# Python imports\n",
    "import math\n",
    "import numpy\n",
    "import pandas\n",
    "import matplotlib.pyplot as plt\n",
    "\n",
    "from sklearn import svm, metrics\n",
    "from sklearn import tree\n",
    "from sklearn.ensemble import AdaBoostClassifier\n",
    "from sklearn.ensemble import RandomForestClassifier\n",
    "from sklearn.ensemble import ExtraTreesClassifier\n",
    "from sklearn.ensemble import GradientBoostingRegressor\n",
    "from sklearn.inspection import permutation_importance\n",
    "# from sklearn.datasets import make_classification\n",
    "from sklearn import neural_network\n",
    "from sklearn.preprocessing import StandardScaler\n",
    "from sklearn.metrics import accuracy_score\n",
    "from sklearn.metrics import roc_curve, auc\n",
    "from sklearn.metrics import mean_squared_error\n",
    "\n",
    "\n",
    "# options\n",
    "scale = 0  # eat it raw\n",
    "scale = 2  # normalize input & output data\n",
    "scale = 1  # normalize input data\n",
    "# nevin = 1000 # number of events\n",
    "# nevin = 10616 # number of events\n",
    "# nevin = 179500 # number of events"
   ]
  },
  {
   "cell_type": "code",
   "execution_count": 35,
   "id": "ccdf6ea9",
   "metadata": {},
   "outputs": [
    {
     "name": "stdout",
     "output_type": "stream",
     "text": [
      " \n",
      "\n",
      "Input size  =  4147972\n",
      " \n",
      "\n"
     ]
    }
   ],
   "source": [
    "\n",
    "print(\" \\n\")\n",
    "# Data\n",
    "# fix random seed for reproducibility\n",
    "seed = 69\n",
    "numpy.random.seed(seed)\n",
    "\n",
    "# load my dataset\n",
    "# dfraw = pandas.read_csv(\"data/transfertest.csv\",sep=\",\")\n",
    "# dfraw = pandas.read_csv(\"data/wisctest.csv\",sep=\",\")\n",
    "# dfraw = pandas.read_csv(\"data/colldata_2023030200.csv\",sep=\",\")\n",
    "# read directly from zip\n",
    "#dfraw = pandas.read_csv(\"data/colldata_2023030200.csv.zip\",sep=\",\",compression=\"infer\")\n",
    "dfraw = pandas.read_csv(\"/cmsuf/data/store/user/bockjoo/CHEP2023/XRDCollectorData/colldata_2023030206.csv.zip\",sep=\",\",compression=\"infer\")\n",
    "nevin = len(dfraw)\n",
    "print('Input size  = ',nevin)\n",
    "print(\" \\n\")\n"
   ]
  },
  {
   "cell_type": "code",
   "execution_count": 36,
   "id": "9b490e01",
   "metadata": {},
   "outputs": [],
   "source": [
    "\"\"\"\n",
    "   Randomize the data, just to be sure not to get any pathological\n",
    "   ordering effects that might harm the performance of Stochastic\n",
    "   Gradient Descent.\n",
    "\"\"\"\n",
    "\n",
    "dfraw = dfraw.reindex(numpy.random.permutation(dfraw.index))"
   ]
  },
  {
   "cell_type": "code",
   "execution_count": 37,
   "id": "1933cfbf",
   "metadata": {},
   "outputs": [
    {
     "name": "stdout",
     "output_type": "stream",
     "text": [
      "         Unnamed: 0     file_size    read_bytes  read_single_bytes  \\\n",
      "count  4.147972e+06  4.147972e+06  4.147972e+06       4.147972e+06   \n",
      "mean   2.073986e+06  2.079508e+09  2.392640e+06       1.975465e+06   \n",
      "std    1.197417e+06  1.042443e+09  7.045653e+07       6.073811e+07   \n",
      "min    0.000000e+00 -1.000000e+00  0.000000e+00       0.000000e+00   \n",
      "25%    1.036993e+06  1.255156e+09  2.911000e+03       2.836000e+03   \n",
      "50%    2.073986e+06  2.001575e+09  1.216900e+04       1.209800e+04   \n",
      "75%    3.110978e+06  3.017278e+09  4.465000e+04       4.449200e+04   \n",
      "max    4.147971e+06  8.663526e+09  1.387470e+10       1.044610e+10   \n",
      "\n",
      "       read_vector_bytes    start_time      end_time  operation_time  \\\n",
      "count       4.147972e+06  4.147972e+06  4.147972e+06    4.147972e+06   \n",
      "mean        1.345845e+05  1.677738e+12  1.677738e+12    4.461784e+00   \n",
      "std         1.067420e+07  1.580829e+06  1.582923e+06    1.462942e+02   \n",
      "min         0.000000e+00  1.677729e+12  1.677733e+12    0.000000e+00   \n",
      "25%         0.000000e+00  1.677737e+12  1.677737e+12    0.000000e+00   \n",
      "50%         0.000000e+00  1.677738e+12  1.677738e+12    0.000000e+00   \n",
      "75%         0.000000e+00  1.677739e+12  1.677739e+12    0.000000e+00   \n",
      "max         3.772404e+09  1.677741e+12  1.677753e+12    1.193900e+04   \n",
      "\n",
      "       write_bytes  read_average  ...  read_vector_min  \\\n",
      "count    4147972.0  4.147972e+06  ...     4.147972e+06   \n",
      "mean           0.0  9.829640e+04  ...     4.029778e+03   \n",
      "std            0.0  5.422274e+05  ...     3.293713e+05   \n",
      "min            0.0  0.000000e+00  ...     0.000000e+00   \n",
      "25%            0.0  2.823000e+03  ...     0.000000e+00   \n",
      "50%            0.0  1.207900e+04  ...     0.000000e+00   \n",
      "75%            0.0  4.438400e+04  ...     0.000000e+00   \n",
      "max            0.0  7.206549e+07  ...     4.546007e+07   \n",
      "\n",
      "       read_vector_operations  read_vector_sigma    throughput  write_average  \\\n",
      "count            4.147972e+06          4147972.0  4.147972e+06      4147972.0   \n",
      "mean             1.124019e-02                0.0  2.348054e+04            0.0   \n",
      "std              1.402119e+00                0.0  8.597881e+05            0.0   \n",
      "min              0.000000e+00                0.0  0.000000e+00            0.0   \n",
      "25%              0.000000e+00                0.0  0.000000e+00            0.0   \n",
      "50%              0.000000e+00                0.0  0.000000e+00            0.0   \n",
      "75%              0.000000e+00                0.0  0.000000e+00            0.0   \n",
      "max              3.960000e+02                0.0  1.965794e+08            0.0   \n",
      "\n",
      "       write_bytes_at_close  write_max  write_min  write_operations  \\\n",
      "count             4147972.0  4147972.0  4147972.0         4147972.0   \n",
      "mean                    0.0        0.0        0.0               0.0   \n",
      "std                     0.0        0.0        0.0               0.0   \n",
      "min                     0.0        0.0        0.0               0.0   \n",
      "25%                     0.0        0.0        0.0               0.0   \n",
      "50%                     0.0        0.0        0.0               0.0   \n",
      "75%                     0.0        0.0        0.0               0.0   \n",
      "max                     0.0        0.0        0.0               0.0   \n",
      "\n",
      "       write_sigma  \n",
      "count    4147972.0  \n",
      "mean           0.0  \n",
      "std            0.0  \n",
      "min            0.0  \n",
      "25%            0.0  \n",
      "50%            0.0  \n",
      "75%            0.0  \n",
      "max            0.0  \n",
      "\n",
      "[8 rows x 36 columns]\n"
     ]
    }
   ],
   "source": [
    "\"\"\"## Examine the Data\n",
    "\n",
    "It's a good idea to get to know your data a little bit before you work\n",
    "with it.\n",
    "\n",
    "Print out a quick summary of a few useful statistics on each column:\n",
    "count of examples, mean, standard deviation, max, min, and various\n",
    "quantiles.\n",
    "\n",
    "\"\"\"\n",
    "\n",
    "print(dfraw.describe())"
   ]
  },
  {
   "cell_type": "code",
   "execution_count": 54,
   "id": "5ae34df6",
   "metadata": {},
   "outputs": [
    {
     "name": "stdout",
     "output_type": "stream",
     "text": [
      "          file_size    read_bytes  read_bytes_per_fsize  operation_time  \\\n",
      "count  3.646200e+04  3.646200e+04          3.646200e+04    36462.000000   \n",
      "mean   2.041463e+09  1.605934e+08          2.296001e-01      113.009572   \n",
      "std    1.468561e+09  6.133640e+08          4.089769e-01      373.210795   \n",
      "min    2.320000e+04  1.010000e+02          2.386281e-08        1.000000   \n",
      "25%    7.130847e+08  3.000000e+02          2.828879e-07        3.000000   \n",
      "50%    1.960255e+09  6.153830e+06          2.565328e-03        5.000000   \n",
      "75%    3.075443e+09  1.384652e+08          9.779691e-02       59.000000   \n",
      "max    8.663526e+09  1.044645e+10          2.032071e+00     3782.000000   \n",
      "\n",
      "         throughput  \n",
      "count  3.646200e+04  \n",
      "mean   2.671182e+06  \n",
      "std    8.776455e+06  \n",
      "min    1.463415e-01  \n",
      "25%    1.365000e+02  \n",
      "50%    1.425999e+05  \n",
      "75%    2.102010e+06  \n",
      "max    1.965794e+08  \n",
      "Filtered size =  36462\n"
     ]
    }
   ],
   "source": [
    "# select columns & descibe data again\n",
    "\n",
    "###dfall = dfraw[['server_host','file_size','read_bytes','ipv6','throughput']]\n",
    "#dfall = dfraw[['server_host','file_size','read_bytes','throughput']]\n",
    "dfall = dfraw[['server_host','file_size','read_bytes','ipv6', 'operation_time','throughput']]\n",
    "df1 = dfall.loc[(dfall['throughput'] > .0)]\n",
    "df2 = df1.loc[(df1['file_size'] > .0)]\n",
    "df  = df2.loc[(df2['read_bytes'] > .0)]\n",
    "df.insert(3, \"read_bytes_per_fsize\", df['read_bytes']/df['file_size'], True)\n",
    "print(df.describe())\n",
    "nev = len(df)\n",
    "print('Filtered size = ',nev)"
   ]
  },
  {
   "cell_type": "code",
   "execution_count": 55,
   "id": "5a7e9825",
   "metadata": {},
   "outputs": [
    {
     "data": {
      "text/html": [
       "<div>\n",
       "<style scoped>\n",
       "    .dataframe tbody tr th:only-of-type {\n",
       "        vertical-align: middle;\n",
       "    }\n",
       "\n",
       "    .dataframe tbody tr th {\n",
       "        vertical-align: top;\n",
       "    }\n",
       "\n",
       "    .dataframe thead th {\n",
       "        text-align: right;\n",
       "    }\n",
       "</style>\n",
       "<table border=\"1\" class=\"dataframe\">\n",
       "  <thead>\n",
       "    <tr style=\"text-align: right;\">\n",
       "      <th></th>\n",
       "      <th>file_size</th>\n",
       "      <th>read_bytes</th>\n",
       "      <th>read_bytes_per_fsize</th>\n",
       "      <th>operation_time</th>\n",
       "      <th>throughput</th>\n",
       "    </tr>\n",
       "  </thead>\n",
       "  <tbody>\n",
       "    <tr>\n",
       "      <th>count</th>\n",
       "      <td>3.646200e+04</td>\n",
       "      <td>3.646200e+04</td>\n",
       "      <td>3.646200e+04</td>\n",
       "      <td>36462.000000</td>\n",
       "      <td>3.646200e+04</td>\n",
       "    </tr>\n",
       "    <tr>\n",
       "      <th>mean</th>\n",
       "      <td>2.041463e+09</td>\n",
       "      <td>1.605934e+08</td>\n",
       "      <td>2.296001e-01</td>\n",
       "      <td>113.009572</td>\n",
       "      <td>2.671182e+06</td>\n",
       "    </tr>\n",
       "    <tr>\n",
       "      <th>std</th>\n",
       "      <td>1.468561e+09</td>\n",
       "      <td>6.133640e+08</td>\n",
       "      <td>4.089769e-01</td>\n",
       "      <td>373.210795</td>\n",
       "      <td>8.776455e+06</td>\n",
       "    </tr>\n",
       "    <tr>\n",
       "      <th>min</th>\n",
       "      <td>2.320000e+04</td>\n",
       "      <td>1.010000e+02</td>\n",
       "      <td>2.386281e-08</td>\n",
       "      <td>1.000000</td>\n",
       "      <td>1.463415e-01</td>\n",
       "    </tr>\n",
       "    <tr>\n",
       "      <th>25%</th>\n",
       "      <td>7.130847e+08</td>\n",
       "      <td>3.000000e+02</td>\n",
       "      <td>2.828879e-07</td>\n",
       "      <td>3.000000</td>\n",
       "      <td>1.365000e+02</td>\n",
       "    </tr>\n",
       "    <tr>\n",
       "      <th>50%</th>\n",
       "      <td>1.960255e+09</td>\n",
       "      <td>6.153830e+06</td>\n",
       "      <td>2.565328e-03</td>\n",
       "      <td>5.000000</td>\n",
       "      <td>1.425999e+05</td>\n",
       "    </tr>\n",
       "    <tr>\n",
       "      <th>75%</th>\n",
       "      <td>3.075443e+09</td>\n",
       "      <td>1.384652e+08</td>\n",
       "      <td>9.779691e-02</td>\n",
       "      <td>59.000000</td>\n",
       "      <td>2.102010e+06</td>\n",
       "    </tr>\n",
       "    <tr>\n",
       "      <th>max</th>\n",
       "      <td>8.663526e+09</td>\n",
       "      <td>1.044645e+10</td>\n",
       "      <td>2.032071e+00</td>\n",
       "      <td>3782.000000</td>\n",
       "      <td>1.965794e+08</td>\n",
       "    </tr>\n",
       "  </tbody>\n",
       "</table>\n",
       "</div>"
      ],
      "text/plain": [
       "          file_size    read_bytes  read_bytes_per_fsize  operation_time  \\\n",
       "count  3.646200e+04  3.646200e+04          3.646200e+04    36462.000000   \n",
       "mean   2.041463e+09  1.605934e+08          2.296001e-01      113.009572   \n",
       "std    1.468561e+09  6.133640e+08          4.089769e-01      373.210795   \n",
       "min    2.320000e+04  1.010000e+02          2.386281e-08        1.000000   \n",
       "25%    7.130847e+08  3.000000e+02          2.828879e-07        3.000000   \n",
       "50%    1.960255e+09  6.153830e+06          2.565328e-03        5.000000   \n",
       "75%    3.075443e+09  1.384652e+08          9.779691e-02       59.000000   \n",
       "max    8.663526e+09  1.044645e+10          2.032071e+00     3782.000000   \n",
       "\n",
       "         throughput  \n",
       "count  3.646200e+04  \n",
       "mean   2.671182e+06  \n",
       "std    8.776455e+06  \n",
       "min    1.463415e-01  \n",
       "25%    1.365000e+02  \n",
       "50%    1.425999e+05  \n",
       "75%    2.102010e+06  \n",
       "max    1.965794e+08  "
      ]
     },
     "execution_count": 55,
     "metadata": {},
     "output_type": "execute_result"
    }
   ],
   "source": [
    "df.describe()"
   ]
  },
  {
   "cell_type": "code",
   "execution_count": 61,
   "id": "c327c3b3",
   "metadata": {},
   "outputs": [
    {
     "name": "stdout",
     "output_type": "stream",
     "text": [
      "Training size =  32815\n",
      "Testing size  =  3647\n",
      "[['gftp-3.t2.ucsd.edu' 196579440 196579440 1.0 False 28 7020694.285714285]\n",
      " ['gftp-11.t2.ucsd.edu' 2452150280 159 6.484105044328686e-08 False 3 53.0]]\n",
      "[['gftp-6.t2.ucsd.edu' 1919376545 261 1.359816554390582e-07 False 6 43.5]\n",
      " ['gftp-7.t2.ucsd.edu' 194971388 194971388 1.0 False 6 32495231.33333333]]\n",
      "Data size: 032815 \n"
     ]
    }
   ],
   "source": [
    "\n",
    "# 90/10% split for training/testing\n",
    "dataset = df[:int(0.9*nev)].values\n",
    "print('Training size = ',len(dataset))\n",
    "datasettest = df[int(0.9*nev):nev].values\n",
    "print('Testing size  = ',len(datasettest))\n",
    "\n",
    "print(dataset[21:23,:])\n",
    "\n",
    "print(datasettest[21:23,:])\n",
    "\n",
    "# split into input (X) and output (Y) variables\n",
    "#\n",
    "# train sample\n",
    "X = dataset[:,1:6]\n",
    "Y = dataset[:,6]\n",
    "datasize = len(Y)\n",
    "print(\"Data size: %06d \" % (datasize))\n",
    "dssize = datasize\n",
    "Xsize = 3\n"
   ]
  },
  {
   "cell_type": "code",
   "execution_count": 62,
   "id": "4a0f9625",
   "metadata": {},
   "outputs": [
    {
     "name": "stdout",
     "output_type": "stream",
     "text": [
      "Data size Test: 003647 \n"
     ]
    }
   ],
   "source": [
    "# test sample\n",
    "Xtest = datasettest[:,1:6]\n",
    "Ytest = datasettest[:,6]\n",
    "datasizetest = len(Ytest)\n",
    "print(\"Data size Test: %06d \" % (datasizetest))\n",
    "dssizetest = datasizetest\n",
    "Xsizetest = 3"
   ]
  },
  {
   "cell_type": "code",
   "execution_count": 63,
   "id": "47ee2cf5",
   "metadata": {},
   "outputs": [
    {
     "name": "stdout",
     "output_type": "stream",
     "text": [
      " \n",
      "\n"
     ]
    }
   ],
   "source": [
    "print(\" \\n\")\n",
    "\n",
    "# scale data?\n",
    "if(scale==1):\n",
    "   scaler = StandardScaler()  \n",
    "   # Don't cheat - fit only on training data\n",
    "   scaler.fit(X)  \n",
    "   X = scaler.transform(X)  \n",
    "   # apply same transformation to test data\n",
    "   Xtest = scaler.transform(Xtest)  \n",
    "   #dimi!\n",
    "   if(scale==2):\n",
    "     scaler.fit(Y)\n",
    "     Y = scaler.transform(Y)  \n",
    "     # apply same transformation to test data\n",
    "     Ytest = scaler.transform(Ytest)  "
   ]
  },
  {
   "cell_type": "code",
   "execution_count": 64,
   "id": "6b34e801",
   "metadata": {},
   "outputs": [
    {
     "name": "stdout",
     "output_type": "stream",
     "text": [
      "\n",
      " GB Regressor I\n",
      "GBR  I R score =  0.9789342516814903\n",
      "Root Mean Sq Error =  1254706.3718372155\n",
      "i, true, predicted =>  0 30941.13559322034 2279.9606454358695\n",
      "i, true, predicted =>  1 18237.48504983389 -1191.5838413896315\n",
      "i, true, predicted =>  2 334.3333333333333 11146.468081072118\n",
      "i, true, predicted =>  3 92.66666666666669 11146.468081072118\n",
      "i, true, predicted =>  4 690863.5 719407.4812824213\n",
      "i, true, predicted =>  5 268033.8233333333 222747.3819249373\n",
      "i, true, predicted =>  6 3304563.675 2595264.071225548\n",
      "i, true, predicted =>  7 28.0 9751.399784001565\n",
      "i, true, predicted =>  8 83.33333333333333 11146.468081072118\n"
     ]
    }
   ],
   "source": [
    "# Gradient Boosting Regression\n",
    "\n",
    "# GBR I\n",
    "\n",
    "params = {\n",
    "#   \"n_estimators\": 500,\n",
    "    \"n_estimators\": 1000,\n",
    "    \"max_depth\": 4,\n",
    "    \"min_samples_split\": 5,\n",
    "    \"learning_rate\": 0.01,\n",
    "    \"loss\": \"squared_error\",\n",
    "}\n",
    "\n",
    "dbreg = GradientBoostingRegressor(**params)\n",
    "dbreg.fit(X, Y)\n",
    "\n",
    "dbregpredicted = dbreg.predict(Xtest)\n",
    "print(\"\\n GB Regressor I\")\n",
    "print(\"GBR  I R score = \",dbreg.score(Xtest, Ytest))\n",
    "print(\"Root Mean Sq Error = \",math.sqrt(mean_squared_error(Ytest,dbregpredicted)))\n",
    "for i in range(0,9):\n",
    "  print(\"i, true, predicted => \",i,Ytest[i],dbregpredicted[i])\n",
    "#print(\" \\n\")"
   ]
  },
  {
   "cell_type": "markdown",
   "id": "2cec6585",
   "metadata": {},
   "source": [
    "## Plot Feature Importance"
   ]
  },
  {
   "cell_type": "code",
   "execution_count": 77,
   "id": "dac8ce34",
   "metadata": {},
   "outputs": [
    {
     "data": {
      "image/png": "[encoded data removed]",
      "text/plain": [
       "<Figure size 1200x600 with 2 Axes>"
      ]
     },
     "metadata": {},
     "output_type": "display_data"
    }
   ],
   "source": [
    "# Plot feature importance\n",
    "feature_importance = dbreg.feature_importances_\n",
    "sorted_idx = numpy.argsort(feature_importance)\n",
    "pos = numpy.arange(sorted_idx.shape[0]) + 0.5\n",
    "fig = plt.figure(figsize=(12, 6))\n",
    "plt.subplot(1, 2, 1)\n",
    "plt.barh(pos, feature_importance[sorted_idx], align=\"center\")\n",
    "plt.yticks(pos, numpy.array(df.columns[1:6])[sorted_idx])\n",
    "plt.title(\"Feature Importance (MDI)\")\n",
    "#plt.savefig(\"FeatureImportance.jpg\")\n",
    "\n",
    "result = permutation_importance(\n",
    "    dbreg, Xtest, Ytest, n_repeats=10, random_state=42, n_jobs=2\n",
    ")\n",
    "sorted_idx = result.importances_mean.argsort()\n",
    "plt.subplot(1, 2, 2)\n",
    "plt.boxplot(\n",
    "    result.importances[sorted_idx].T,\n",
    "    vert=False,\n",
    "    labels=numpy.array(df.columns[1:6])[sorted_idx],\n",
    ")\n",
    "plt.title(\"Permutation Importance (test set)\")\n",
    "fig.tight_layout()\n",
    "#plt.show()\n",
    "plt.savefig(\"FeaturePermutationImportance.pdf\")"
   ]
  },
  {
   "cell_type": "markdown",
   "id": "d60e21fa",
   "metadata": {},
   "source": [
    "## Plot Training Deviance"
   ]
  },
  {
   "cell_type": "code",
   "execution_count": 74,
   "id": "8a96cc6e",
   "metadata": {},
   "outputs": [],
   "source": [
    "# Plot training deviance\n",
    "test_score = numpy.zeros((params[\"n_estimators\"],), dtype=numpy.float64)\n",
    "for i, y_pred in enumerate(dbreg.staged_predict(Xtest)):\n",
    "    test_score[i] = mean_squared_error(Ytest, y_pred)"
   ]
  },
  {
   "cell_type": "code",
   "execution_count": 78,
   "id": "fc6402dc",
   "metadata": {},
   "outputs": [
    {
     "data": {
      "image/png": "[encoded data removed]",
      "text/plain": [
       "<Figure size 600x600 with 1 Axes>"
      ]
     },
     "metadata": {},
     "output_type": "display_data"
    }
   ],
   "source": [
    "fig = plt.figure(figsize=(6, 6))\n",
    "plt.subplot(1, 1, 1)\n",
    "plt.title(\"Deviance\")\n",
    "plt.plot(\n",
    "    numpy.arange(params[\"n_estimators\"]) + 1,\n",
    "    dbreg.train_score_,\n",
    "    \"b-\",\n",
    "    label=\"Training Set Deviance\",\n",
    ")\n",
    "plt.plot(\n",
    "    numpy.arange(params[\"n_estimators\"]) + 1, test_score, \"r-\", label=\"Test Set Deviance\"\n",
    ")\n",
    "plt.legend(loc=\"upper right\")\n",
    "plt.xlabel(\"Boosting Iterations\")\n",
    "plt.ylabel(\"Deviance\")\n",
    "fig.tight_layout()\n",
    "#if(saveplots==1):\n",
    "#plt.savefig('db-xgb-training.png')\n",
    "plt.savefig('db-xgb-training.pdf')\n",
    "plt.show()"
   ]
  },
  {
   "cell_type": "code",
   "execution_count": null,
   "id": "acc2382e",
   "metadata": {},
   "outputs": [],
   "source": []
  }
 ],
 "metadata": {
  "kernelspec": {
   "display_name": "Python 3 (ipykernel)",
   "language": "python",
   "name": "python3"
  },
  "language_info": {
   "codemirror_mode": {
    "name": "ipython",
    "version": 3
   },
   "file_extension": ".py",
   "mimetype": "text/x-python",
   "name": "python",
   "nbconvert_exporter": "python",
   "pygments_lexer": "ipython3",
   "version": "3.9.15"
  }
 },
 "nbformat": 4,
 "nbformat_minor": 5
}
